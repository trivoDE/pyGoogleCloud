{
 "cells": [
  {
   "cell_type": "code",
   "execution_count": 7,
   "id": "d1c69744",
   "metadata": {},
   "outputs": [
    {
     "name": "stdout",
     "output_type": "stream",
     "text": [
      "                         time   open   high    low  close   volume\n",
      "0   2023-01-03 09:00:00+07:00  46.20  46.20  45.40  46.00   537800\n",
      "1   2023-01-04 09:00:00+07:00  46.00  48.00  46.00  46.00   487100\n",
      "2   2023-01-05 09:00:00+07:00  46.95  46.95  46.00  46.05   551800\n",
      "3   2023-01-06 09:00:00+07:00  47.20  47.70  46.55  46.60   362500\n",
      "4   2023-01-09 09:00:00+07:00  46.80  47.40  46.80  47.30   268900\n",
      "..                        ...    ...    ...    ...    ...      ...\n",
      "125 2023-07-07 09:00:00+07:00  53.80  56.00  53.20  55.80  2437800\n",
      "126 2023-07-10 09:00:00+07:00  56.00  56.00  55.20  55.70  1137100\n",
      "127 2023-07-11 09:00:00+07:00  56.00  57.90  55.90  56.70  2642800\n",
      "128 2023-07-12 09:00:00+07:00  57.50  57.50  56.70  57.10   953000\n",
      "129 2023-07-13 09:00:00+07:00  57.20  57.50  56.60  57.20  1025600\n",
      "\n",
      "[130 rows x 6 columns]\n"
     ]
    }
   ],
   "source": [
    "import pandas as pd\n",
    "import requests\n",
    "from pandas import json_normalize\n",
    "from io import BytesIO\n",
    "import time\n",
    "from datetime import datetime, timedelta\n",
    "\n",
    "entrade_headers = {\n",
    "  'authority': 'services.entrade.com.vn',\n",
    "  'accept': 'application/json, text/plain, */*',\n",
    "  'accept-language': 'en-US,en;q=0.9',\n",
    "  'dnt': '1',\n",
    "  'origin': 'https://banggia.dnse.com.vn',\n",
    "  'referer': 'https://banggia.dnse.com.vn/',\n",
    "  'sec-ch-ua': '\"Edge\";v=\"114\", \"Chromium\";v=\"114\", \"Not=A?Brand\";v=\"24\"',\n",
    "  'sec-ch-ua-mobile': '?0',\n",
    "  'sec-ch-ua-platform': '\"Windows\"',\n",
    "  'sec-fetch-dest': 'empty',\n",
    "  'sec-fetch-mode': 'cors',\n",
    "  'sec-fetch-site': 'cross-site',\n",
    "  'user-agent': 'Mozilla/5.0 (Windows NT 10.0; Win64; x64) AppleWebKit/537.36 (KHTML, like Gecko) Chrome/114.0.0.0 Safari/537.36 Edg/114.0.1788.0'\n",
    "}\n",
    "\n",
    "def stock_historical_data (symbol, start_date='2023-06-01', end_date='2023-06-17', resolution='1D', type='stock', headers=entrade_headers): # DNSE source (will be published on vnstock)\n",
    "    \"\"\"\n",
    "    Get historical price data from entrade.com.vn\n",
    "    Parameters:\n",
    "        symbol (str): ticker of a stock or index. Available indices are: VNINDEX, VN30, HNX, HNX30, UPCOM, VNXALLSHARE, VN30F1M, VN30F2M, VN30F1Q, VN30F2Q\n",
    "        from_date (str): start date of the historical price data\n",
    "        to_date (str): end date of the historical price data\n",
    "        resolution (str): resolution of the historical price data. Default is '1D' (daily), other options are '1' (1 minute), 15 (15 minutes), 30 (30 minutes), '1H' (hourly)\n",
    "        type (str): stock or index. Default is 'stock'\n",
    "        headers (dict): headers of the request\n",
    "    Returns:\n",
    "        :obj:`pandas.DataFrame`:\n",
    "        | time | open | high | low | close | volume |\n",
    "        | ----------- | ---- | ---- | --- | ----- | ------ |\n",
    "        | YYYY-mm-dd  | xxxx | xxxx | xxx | xxxxx | xxxxxx |\n",
    "    \"\"\"\n",
    "    # convert from_date, to_date to timestamp\n",
    "    from_timestamp = int(datetime.strptime(start_date, '%Y-%m-%d').timestamp())\n",
    "    to_timestamp = int(datetime.strptime(end_date, '%Y-%m-%d').timestamp())\n",
    "    url = f\"https://services.entrade.com.vn/chart-api/v2/ohlcs/{type}?from={from_timestamp}&to={to_timestamp}&symbol={symbol}&resolution={resolution}\"\n",
    "    response = requests.request(\"GET\", url, headers=headers).json()\n",
    "    df = pd.DataFrame(response)\n",
    "    df['t'] = pd.to_datetime(df['t'], unit='s') # convert timestamp to datetime\n",
    "    df = df.rename(columns={'t': 'time', 'o': 'open', 'h': 'high', 'l': 'low', 'c': 'close', 'v': 'volume'}).drop(columns=['nextTime'])\n",
    "    df['time'] = df['time'].dt.tz_localize('UTC').dt.tz_convert('Asia/Ho_Chi_Minh')\n",
    "    return df\n",
    "\n",
    "df =  stock_historical_data(symbol='GMD', \n",
    "                            start_date=\"2023-01-01\", \n",
    "                            end_date='2023-07-14', resolution='1D', type='stock')\n",
    "print(df)"
   ]
  }
 ],
 "metadata": {
  "kernelspec": {
   "display_name": "Python 3 (ipykernel)",
   "language": "python",
   "name": "python3"
  },
  "language_info": {
   "codemirror_mode": {
    "name": "ipython",
    "version": 3
   },
   "file_extension": ".py",
   "mimetype": "text/x-python",
   "name": "python",
   "nbconvert_exporter": "python",
   "pygments_lexer": "ipython3",
   "version": "3.10.11"
  }
 },
 "nbformat": 4,
 "nbformat_minor": 5
}
